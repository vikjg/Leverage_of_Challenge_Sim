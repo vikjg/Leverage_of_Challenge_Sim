{
 "cells": [
  {
   "cell_type": "code",
   "execution_count": 75,
   "id": "e2d11d86",
   "metadata": {},
   "outputs": [
    {
     "name": "stdout",
     "output_type": "stream",
     "text": [
      "      Inning Team Outs RO1 RO2 RO3 Run Diff        WE\n",
      "0          1    0    0   0   0   0        0  0.459088\n",
      "1          1    0    0   0   0   0        1  0.565723\n",
      "2          1    0    0   0   0   0        2  0.687890\n",
      "3          1    0    0   0   0   0        3  0.747984\n",
      "4          1    0    0   0   0   0        4  0.838710\n",
      "...      ...  ...  ...  ..  ..  ..      ...       ...\n",
      "15949     25    1    0   0   0   0        0  1.000000\n",
      "15950     25    1    1   0   0   0        1  0.000000\n",
      "15951     25    1    1   0   0   0        0  1.000000\n",
      "15952     25    1    2   0   0   0        1  0.000000\n",
      "15953     25    1    2   1   0   0        1  0.000000\n",
      "\n",
      "[15954 rows x 8 columns]\n"
     ]
    }
   ],
   "source": [
    "\n",
    "import pandas as pd\n",
    "\n",
    "df = pd.read_csv(\"stats.txt\", sep=' ', header=None) \n",
    "  \n",
    "# display DataFrame \n",
    "for column in df.columns:\n",
    "    df[column] = df[column].str.extract('(\\d+)', expand=False)\n",
    "df['WE'] = df[7].astype(float) / df[8].astype(float)\n",
    "df = df.drop([7,8], axis=1)\n",
    "mapping = {df.columns[0]:'Inning', df.columns[1]:'Team', df.columns[2]:'Outs', df.columns[3]:'RO1', \n",
    "           df.columns[4]:'RO2', df.columns[5]:'RO3', df.columns[6]:'Run Diff'}\n",
    "df = df.rename(columns=mapping)\n",
    "print(df)\n"
   ]
  },
  {
   "cell_type": "code",
   "execution_count": null,
   "id": "87538afc",
   "metadata": {},
   "outputs": [],
   "source": []
  }
 ],
 "metadata": {
  "kernelspec": {
   "display_name": "Python 3 (ipykernel)",
   "language": "python",
   "name": "python3"
  },
  "language_info": {
   "codemirror_mode": {
    "name": "ipython",
    "version": 3
   },
   "file_extension": ".py",
   "mimetype": "text/x-python",
   "name": "python",
   "nbconvert_exporter": "python",
   "pygments_lexer": "ipython3",
   "version": "3.11.5"
  }
 },
 "nbformat": 4,
 "nbformat_minor": 5
}
