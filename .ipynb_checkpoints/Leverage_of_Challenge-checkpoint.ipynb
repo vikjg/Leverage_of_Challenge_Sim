{
 "cells": [
  {
   "cell_type": "code",
   "execution_count": 65,
   "id": "e2d11d86",
   "metadata": {},
   "outputs": [],
   "source": [
    "import pandas as pd\n",
    "\n",
    "df = pd.read_csv(\"statswithballsstrikes.txt\", sep=' ', header=None) \n",
    "  \n",
    "# display DataFrame \n",
    "for column in df.columns:\n",
    "    df[column] = df[column].str.extract('(\\d+)', expand=False)\n",
    "df['WE'] = df[9].astype(float) / df[10].astype(float)\n",
    "df = df.drop([9,10], axis=1)\n",
    "mapping = {df.columns[0]:'Inning', df.columns[1]:'Team', df.columns[2]:'Outs', df.columns[3]:'RO1', \n",
    "           df.columns[4]:'RO2', df.columns[5]:'RO3', df.columns[6]:'Run Diff', df.columns[7]:'Balls',\n",
    "           df.columns[8]: 'Strikes'}\n",
    "df = df.rename(columns=mapping)\n",
    "df.to_csv('WE_matrix.csv')"
   ]
  },
  {
   "cell_type": "code",
   "execution_count": 37,
   "id": "48bcf0af",
   "metadata": {},
   "outputs": [],
   "source": [
    "def true_call(plate_x, plate_z, sz_top, sz_bot):\n",
    "    if ((plate_x > -0.83) & (plate_x < 0.83)) & ((plate_z > sz_bot) & (plate_z < sz_top)):\n",
    "        return 1\n",
    "    else:\n",
    "        return 0"
   ]
  },
  {
   "cell_type": "code",
   "execution_count": 50,
   "id": "87538afc",
   "metadata": {},
   "outputs": [],
   "source": [
    "data2023 = pd.read_csv('2023_mlb_statcast.csv')\n",
    "data2023 = data2023.drop(['pitch_type', 'game_date', 'release_speed', 'release_pos_x',\n",
    "       'release_pos_z', 'player_name', 'batter', 'pitcher',\n",
    "       'spin_dir', 'spin_rate_deprecated',\n",
    "       'break_angle_deprecated', 'break_length_deprecated', 'zone', 'des',\n",
    "       'game_type', 'stand', 'p_throws', 'home_team', 'away_team', 'type',\n",
    "       'hit_location', 'bb_type', 'game_year', 'pfx_x',\n",
    "       'pfx_z', 'hc_x', 'hc_y',\n",
    "       'tfs_deprecated', 'tfs_zulu_deprecated', 'fielder_2', 'umpire', 'sv_id',\n",
    "       'vx0', 'vy0', 'vz0', 'ax', 'ay', 'az', \n",
    "       'hit_distance_sc', 'launch_speed', 'launch_angle', 'effective_speed',\n",
    "       'release_spin_rate', 'release_extension', 'game_pk', 'pitcher.1',\n",
    "       'fielder_2.1', 'fielder_3', 'fielder_4', 'fielder_5', 'fielder_6',\n",
    "       'fielder_7', 'fielder_8', 'fielder_9', 'release_pos_y',\n",
    "       'estimated_ba_using_speedangle', 'estimated_woba_using_speedangle',\n",
    "       'woba_value', 'woba_denom', 'babip_value', 'iso_value',\n",
    "       'launch_speed_angle', 'at_bat_number', 'pitch_number', 'pitch_name',\n",
    "       'if_fielding_alignment', 'of_fielding_alignment', 'spin_axis'], axis=1)\n",
    "data2023 = data2023[data2023['events'].isin(['strikeout'])]\n",
    "data2023 = data2023[data2023['description'].isin(['called_strike'])]\n",
    "data2023 = data2023.reset_index()\n",
    "data2023['Challenge'] = data2023.apply(lambda x: true_call(x.plate_x, x.plate_z, x.sz_top, x.sz_bot), axis=1)"
   ]
  },
  {
   "cell_type": "code",
   "execution_count": 57,
   "id": "957d3ea4",
   "metadata": {},
   "outputs": [
    {
     "name": "stdout",
     "output_type": "stream",
     "text": [
      "      level_0   index  Unnamed: 0     events    description  balls  strikes  \\\n",
      "0           0      17          17  strikeout  called_strike      2        2   \n",
      "1           1     291         291  strikeout  called_strike      2        2   \n",
      "2           2     462         462  strikeout  called_strike      2        2   \n",
      "3           5     694         694  strikeout  called_strike      2        2   \n",
      "4           6     750         750  strikeout  called_strike      0        2   \n",
      "...       ...     ...         ...        ...            ...    ...      ...   \n",
      "7117     9626  720372      720372  strikeout  called_strike      1        2   \n",
      "7118     9627  720398      720398  strikeout  called_strike      0        2   \n",
      "7119     9628  720407      720407  strikeout  called_strike      2        2   \n",
      "7120     9629  720420      720420  strikeout  called_strike      0        2   \n",
      "7121     9630  720644      720644  strikeout  called_strike      3        2   \n",
      "\n",
      "      plate_x  plate_z  on_3b  ...  away_score  bat_score  fld_score  \\\n",
      "0       -0.67     3.06    0.0  ...           6          6          1   \n",
      "1        0.76     1.84    0.0  ...           0          0          0   \n",
      "2       -0.61     2.29    1.0  ...           0          3          0   \n",
      "3        0.21     1.87    0.0  ...           0          3          0   \n",
      "4        0.77     1.90    0.0  ...           0          0          3   \n",
      "...       ...      ...    ...  ...         ...        ...        ...   \n",
      "7117     0.78     1.79    0.0  ...           0          0          0   \n",
      "7118     0.64     1.66    0.0  ...           0          0          0   \n",
      "7119     0.68     1.94    0.0  ...           0          0          0   \n",
      "7120    -0.73     2.47    0.0  ...           0          0          0   \n",
      "7121     0.47     1.68    1.0  ...           0          0          0   \n",
      "\n",
      "      post_away_score post_home_score  post_bat_score  post_fld_score  \\\n",
      "0                   6               1               6               1   \n",
      "1                   0               0               0               0   \n",
      "2                   0               3               3               0   \n",
      "3                   0               3               3               0   \n",
      "4                   0               3               0               3   \n",
      "...               ...             ...             ...             ...   \n",
      "7117                0               0               0               0   \n",
      "7118                0               0               0               0   \n",
      "7119                0               0               0               0   \n",
      "7120                0               0               0               0   \n",
      "7121                0               0               0               0   \n",
      "\n",
      "      delta_home_win_exp  delta_run_exp  Challenge  \n",
      "0                  0.001         -0.090          1  \n",
      "1                  0.022         -0.201          1  \n",
      "2                 -0.031         -0.642          1  \n",
      "3                 -0.009         -0.214          1  \n",
      "4                  0.021         -0.152          1  \n",
      "...                  ...            ...        ...  \n",
      "7117              -0.025         -0.173          1  \n",
      "7118              -0.011         -0.065          1  \n",
      "7119              -0.023         -0.214          1  \n",
      "7120               0.023         -0.152          1  \n",
      "7121              -0.065         -0.518          1  \n",
      "\n",
      "[7122 rows x 28 columns]\n"
     ]
    }
   ],
   "source": [
    "successful_chall = data2023[data2023['Challenge'].isin([1])]\n",
    "successful_chall = successful_chall.reset_index()\n",
    "for c in ['on_1b', 'on_2b', 'on_3b']:\n",
    "        successful_chall[c] = successful_chall[c].fillna(0)\n",
    "successful_chall.loc[successful_chall['on_1b'] > 0, 'on_1b'] = 1\n",
    "successful_chall.loc[successful_chall['on_2b'] > 0, 'on_2b'] = 1\n",
    "successful_chall.loc[successful_chall['on_3b'] > 0, 'on_3b'] = 1\n",
    "successful_chall.loc[successful_chall['inning_topbot'] == 'Top', 'inning_topbot'] = 0\n",
    "successful_chall.loc[successful_chall['inning_topbot'] == 'Bot', 'inning_topbot'] = 1\n",
    "#7122 successful challenges"
   ]
  },
  {
   "cell_type": "code",
   "execution_count": 68,
   "id": "b4fee886",
   "metadata": {},
   "outputs": [],
   "source": [
    "def init_call_we(x):\n",
    "    # inning, team, outs, ro1, ro2, ro3, run_diff, balls, strikes\n",
    "    df = pd.read_csv('WE_matrix.csv')\n",
    "    inning = x.loc['inning']\n",
    "    team = x.loc['inning_topbot']\n",
    "    outs = x.loc['outs_when_up'] + 1\n",
    "    ro1 = x.loc['on_1b']\n",
    "    ro2 = x.loc['on_2b']\n",
    "    ro3 = x.loc['on_3b']\n",
    "    if outs == 3:\n",
    "        outs = 0\n",
    "        if team == 0:\n",
    "            team = 1\n",
    "        else:\n",
    "            team = 0\n",
    "        ro1 = 0\n",
    "        ro2 = 0\n",
    "        ro3 = 0\n",
    "    run_diff_top = x.loc['post_away_score'] - x.loc['post_home_score']\n",
    "    run_diff_bot = x.loc['post_home_score'] - x.loc['post_away_score']\n",
    "    if team == 0:\n",
    "        run_diff = run_diff_top\n",
    "    else:\n",
    "        run_diff = run_diff_bot\n",
    "    balls = 0\n",
    "    strikes = 0\n",
    "    \n",
    "    dfc = df[df['Inning'].isin([inning])]\n",
    "    dfc = dfc[dfc['Team'].isin([team])]\n",
    "    dfc = dfc[dfc['Outs'].isin([outs])]\n",
    "    dfc = dfc[dfc['RO1'].isin([ro1])]\n",
    "    dfc = dfc[dfc['RO2'].isin([ro2])]\n",
    "    dfc = dfc[dfc['RO3'].isin([ro3])]\n",
    "    dfc = dfc[dfc['Run Diff'].isin([run_diff])]\n",
    "    dfc = dfc[dfc['Balls'].isin([balls])]\n",
    "    dfc = dfc[dfc['Strikes'].isin([strikes])]\n",
    "    return dfc['WE']"
   ]
  },
  {
   "cell_type": "code",
   "execution_count": 69,
   "id": "10c1960d",
   "metadata": {},
   "outputs": [
    {
     "ename": "ParserError",
     "evalue": "Error tokenizing data. C error: Calling read(nbytes) on source failed. Try engine='python'.",
     "output_type": "error",
     "traceback": [
      "\u001b[1;31m---------------------------------------------------------------------------\u001b[0m",
      "\u001b[1;31mParserError\u001b[0m                               Traceback (most recent call last)",
      "Cell \u001b[1;32mIn[69], line 1\u001b[0m\n\u001b[1;32m----> 1\u001b[0m successful_chall[\u001b[38;5;124m'\u001b[39m\u001b[38;5;124mWE_initial\u001b[39m\u001b[38;5;124m'\u001b[39m] \u001b[38;5;241m=\u001b[39m successful_chall\u001b[38;5;241m.\u001b[39mapply(init_call_we, axis\u001b[38;5;241m=\u001b[39m\u001b[38;5;241m1\u001b[39m)\n\u001b[0;32m      2\u001b[0m \u001b[38;5;28mprint\u001b[39m(successful_chall)\n",
      "File \u001b[1;32m~\\anaconda3\\Lib\\site-packages\\pandas\\core\\frame.py:10037\u001b[0m, in \u001b[0;36mDataFrame.apply\u001b[1;34m(self, func, axis, raw, result_type, args, by_row, **kwargs)\u001b[0m\n\u001b[0;32m  10025\u001b[0m \u001b[38;5;28;01mfrom\u001b[39;00m \u001b[38;5;21;01mpandas\u001b[39;00m\u001b[38;5;21;01m.\u001b[39;00m\u001b[38;5;21;01mcore\u001b[39;00m\u001b[38;5;21;01m.\u001b[39;00m\u001b[38;5;21;01mapply\u001b[39;00m \u001b[38;5;28;01mimport\u001b[39;00m frame_apply\n\u001b[0;32m  10027\u001b[0m op \u001b[38;5;241m=\u001b[39m frame_apply(\n\u001b[0;32m  10028\u001b[0m     \u001b[38;5;28mself\u001b[39m,\n\u001b[0;32m  10029\u001b[0m     func\u001b[38;5;241m=\u001b[39mfunc,\n\u001b[1;32m   (...)\u001b[0m\n\u001b[0;32m  10035\u001b[0m     kwargs\u001b[38;5;241m=\u001b[39mkwargs,\n\u001b[0;32m  10036\u001b[0m )\n\u001b[1;32m> 10037\u001b[0m \u001b[38;5;28;01mreturn\u001b[39;00m op\u001b[38;5;241m.\u001b[39mapply()\u001b[38;5;241m.\u001b[39m__finalize__(\u001b[38;5;28mself\u001b[39m, method\u001b[38;5;241m=\u001b[39m\u001b[38;5;124m\"\u001b[39m\u001b[38;5;124mapply\u001b[39m\u001b[38;5;124m\"\u001b[39m)\n",
      "File \u001b[1;32m~\\anaconda3\\Lib\\site-packages\\pandas\\core\\apply.py:837\u001b[0m, in \u001b[0;36mFrameApply.apply\u001b[1;34m(self)\u001b[0m\n\u001b[0;32m    834\u001b[0m \u001b[38;5;28;01melif\u001b[39;00m \u001b[38;5;28mself\u001b[39m\u001b[38;5;241m.\u001b[39mraw:\n\u001b[0;32m    835\u001b[0m     \u001b[38;5;28;01mreturn\u001b[39;00m \u001b[38;5;28mself\u001b[39m\u001b[38;5;241m.\u001b[39mapply_raw()\n\u001b[1;32m--> 837\u001b[0m \u001b[38;5;28;01mreturn\u001b[39;00m \u001b[38;5;28mself\u001b[39m\u001b[38;5;241m.\u001b[39mapply_standard()\n",
      "File \u001b[1;32m~\\anaconda3\\Lib\\site-packages\\pandas\\core\\apply.py:963\u001b[0m, in \u001b[0;36mFrameApply.apply_standard\u001b[1;34m(self)\u001b[0m\n\u001b[0;32m    962\u001b[0m \u001b[38;5;28;01mdef\u001b[39;00m \u001b[38;5;21mapply_standard\u001b[39m(\u001b[38;5;28mself\u001b[39m):\n\u001b[1;32m--> 963\u001b[0m     results, res_index \u001b[38;5;241m=\u001b[39m \u001b[38;5;28mself\u001b[39m\u001b[38;5;241m.\u001b[39mapply_series_generator()\n\u001b[0;32m    965\u001b[0m     \u001b[38;5;66;03m# wrap results\u001b[39;00m\n\u001b[0;32m    966\u001b[0m     \u001b[38;5;28;01mreturn\u001b[39;00m \u001b[38;5;28mself\u001b[39m\u001b[38;5;241m.\u001b[39mwrap_results(results, res_index)\n",
      "File \u001b[1;32m~\\anaconda3\\Lib\\site-packages\\pandas\\core\\apply.py:979\u001b[0m, in \u001b[0;36mFrameApply.apply_series_generator\u001b[1;34m(self)\u001b[0m\n\u001b[0;32m    976\u001b[0m \u001b[38;5;28;01mwith\u001b[39;00m option_context(\u001b[38;5;124m\"\u001b[39m\u001b[38;5;124mmode.chained_assignment\u001b[39m\u001b[38;5;124m\"\u001b[39m, \u001b[38;5;28;01mNone\u001b[39;00m):\n\u001b[0;32m    977\u001b[0m     \u001b[38;5;28;01mfor\u001b[39;00m i, v \u001b[38;5;129;01min\u001b[39;00m \u001b[38;5;28menumerate\u001b[39m(series_gen):\n\u001b[0;32m    978\u001b[0m         \u001b[38;5;66;03m# ignore SettingWithCopy here in case the user mutates\u001b[39;00m\n\u001b[1;32m--> 979\u001b[0m         results[i] \u001b[38;5;241m=\u001b[39m \u001b[38;5;28mself\u001b[39m\u001b[38;5;241m.\u001b[39mfunc(v, \u001b[38;5;241m*\u001b[39m\u001b[38;5;28mself\u001b[39m\u001b[38;5;241m.\u001b[39margs, \u001b[38;5;241m*\u001b[39m\u001b[38;5;241m*\u001b[39m\u001b[38;5;28mself\u001b[39m\u001b[38;5;241m.\u001b[39mkwargs)\n\u001b[0;32m    980\u001b[0m         \u001b[38;5;28;01mif\u001b[39;00m \u001b[38;5;28misinstance\u001b[39m(results[i], ABCSeries):\n\u001b[0;32m    981\u001b[0m             \u001b[38;5;66;03m# If we have a view on v, we need to make a copy because\u001b[39;00m\n\u001b[0;32m    982\u001b[0m             \u001b[38;5;66;03m#  series_generator will swap out the underlying data\u001b[39;00m\n\u001b[0;32m    983\u001b[0m             results[i] \u001b[38;5;241m=\u001b[39m results[i]\u001b[38;5;241m.\u001b[39mcopy(deep\u001b[38;5;241m=\u001b[39m\u001b[38;5;28;01mFalse\u001b[39;00m)\n",
      "Cell \u001b[1;32mIn[68], line 3\u001b[0m, in \u001b[0;36minit_call_we\u001b[1;34m(x)\u001b[0m\n\u001b[0;32m      1\u001b[0m \u001b[38;5;28;01mdef\u001b[39;00m \u001b[38;5;21minit_call_we\u001b[39m(x):\n\u001b[0;32m      2\u001b[0m     \u001b[38;5;66;03m# inning, team, outs, ro1, ro2, ro3, run_diff, balls, strikes\u001b[39;00m\n\u001b[1;32m----> 3\u001b[0m     df \u001b[38;5;241m=\u001b[39m pd\u001b[38;5;241m.\u001b[39mread_csv(\u001b[38;5;124m'\u001b[39m\u001b[38;5;124mWE_matrix.csv\u001b[39m\u001b[38;5;124m'\u001b[39m)\n\u001b[0;32m      4\u001b[0m     inning \u001b[38;5;241m=\u001b[39m x\u001b[38;5;241m.\u001b[39mloc[\u001b[38;5;124m'\u001b[39m\u001b[38;5;124minning\u001b[39m\u001b[38;5;124m'\u001b[39m]\n\u001b[0;32m      5\u001b[0m     team \u001b[38;5;241m=\u001b[39m x\u001b[38;5;241m.\u001b[39mloc[\u001b[38;5;124m'\u001b[39m\u001b[38;5;124minning_topbot\u001b[39m\u001b[38;5;124m'\u001b[39m]\n",
      "File \u001b[1;32m~\\anaconda3\\Lib\\site-packages\\pandas\\io\\parsers\\readers.py:948\u001b[0m, in \u001b[0;36mread_csv\u001b[1;34m(filepath_or_buffer, sep, delimiter, header, names, index_col, usecols, dtype, engine, converters, true_values, false_values, skipinitialspace, skiprows, skipfooter, nrows, na_values, keep_default_na, na_filter, verbose, skip_blank_lines, parse_dates, infer_datetime_format, keep_date_col, date_parser, date_format, dayfirst, cache_dates, iterator, chunksize, compression, thousands, decimal, lineterminator, quotechar, quoting, doublequote, escapechar, comment, encoding, encoding_errors, dialect, on_bad_lines, delim_whitespace, low_memory, memory_map, float_precision, storage_options, dtype_backend)\u001b[0m\n\u001b[0;32m    935\u001b[0m kwds_defaults \u001b[38;5;241m=\u001b[39m _refine_defaults_read(\n\u001b[0;32m    936\u001b[0m     dialect,\n\u001b[0;32m    937\u001b[0m     delimiter,\n\u001b[1;32m   (...)\u001b[0m\n\u001b[0;32m    944\u001b[0m     dtype_backend\u001b[38;5;241m=\u001b[39mdtype_backend,\n\u001b[0;32m    945\u001b[0m )\n\u001b[0;32m    946\u001b[0m kwds\u001b[38;5;241m.\u001b[39mupdate(kwds_defaults)\n\u001b[1;32m--> 948\u001b[0m \u001b[38;5;28;01mreturn\u001b[39;00m _read(filepath_or_buffer, kwds)\n",
      "File \u001b[1;32m~\\anaconda3\\Lib\\site-packages\\pandas\\io\\parsers\\readers.py:617\u001b[0m, in \u001b[0;36m_read\u001b[1;34m(filepath_or_buffer, kwds)\u001b[0m\n\u001b[0;32m    614\u001b[0m     \u001b[38;5;28;01mreturn\u001b[39;00m parser\n\u001b[0;32m    616\u001b[0m \u001b[38;5;28;01mwith\u001b[39;00m parser:\n\u001b[1;32m--> 617\u001b[0m     \u001b[38;5;28;01mreturn\u001b[39;00m parser\u001b[38;5;241m.\u001b[39mread(nrows)\n",
      "File \u001b[1;32m~\\anaconda3\\Lib\\site-packages\\pandas\\io\\parsers\\readers.py:1748\u001b[0m, in \u001b[0;36mTextFileReader.read\u001b[1;34m(self, nrows)\u001b[0m\n\u001b[0;32m   1741\u001b[0m nrows \u001b[38;5;241m=\u001b[39m validate_integer(\u001b[38;5;124m\"\u001b[39m\u001b[38;5;124mnrows\u001b[39m\u001b[38;5;124m\"\u001b[39m, nrows)\n\u001b[0;32m   1742\u001b[0m \u001b[38;5;28;01mtry\u001b[39;00m:\n\u001b[0;32m   1743\u001b[0m     \u001b[38;5;66;03m# error: \"ParserBase\" has no attribute \"read\"\u001b[39;00m\n\u001b[0;32m   1744\u001b[0m     (\n\u001b[0;32m   1745\u001b[0m         index,\n\u001b[0;32m   1746\u001b[0m         columns,\n\u001b[0;32m   1747\u001b[0m         col_dict,\n\u001b[1;32m-> 1748\u001b[0m     ) \u001b[38;5;241m=\u001b[39m \u001b[38;5;28mself\u001b[39m\u001b[38;5;241m.\u001b[39m_engine\u001b[38;5;241m.\u001b[39mread(  \u001b[38;5;66;03m# type: ignore[attr-defined]\u001b[39;00m\n\u001b[0;32m   1749\u001b[0m         nrows\n\u001b[0;32m   1750\u001b[0m     )\n\u001b[0;32m   1751\u001b[0m \u001b[38;5;28;01mexcept\u001b[39;00m \u001b[38;5;167;01mException\u001b[39;00m:\n\u001b[0;32m   1752\u001b[0m     \u001b[38;5;28mself\u001b[39m\u001b[38;5;241m.\u001b[39mclose()\n",
      "File \u001b[1;32m~\\anaconda3\\Lib\\site-packages\\pandas\\io\\parsers\\c_parser_wrapper.py:234\u001b[0m, in \u001b[0;36mCParserWrapper.read\u001b[1;34m(self, nrows)\u001b[0m\n\u001b[0;32m    232\u001b[0m \u001b[38;5;28;01mtry\u001b[39;00m:\n\u001b[0;32m    233\u001b[0m     \u001b[38;5;28;01mif\u001b[39;00m \u001b[38;5;28mself\u001b[39m\u001b[38;5;241m.\u001b[39mlow_memory:\n\u001b[1;32m--> 234\u001b[0m         chunks \u001b[38;5;241m=\u001b[39m \u001b[38;5;28mself\u001b[39m\u001b[38;5;241m.\u001b[39m_reader\u001b[38;5;241m.\u001b[39mread_low_memory(nrows)\n\u001b[0;32m    235\u001b[0m         \u001b[38;5;66;03m# destructive to chunks\u001b[39;00m\n\u001b[0;32m    236\u001b[0m         data \u001b[38;5;241m=\u001b[39m _concatenate_chunks(chunks)\n",
      "File \u001b[1;32mparsers.pyx:843\u001b[0m, in \u001b[0;36mpandas._libs.parsers.TextReader.read_low_memory\u001b[1;34m()\u001b[0m\n",
      "File \u001b[1;32mparsers.pyx:904\u001b[0m, in \u001b[0;36mpandas._libs.parsers.TextReader._read_rows\u001b[1;34m()\u001b[0m\n",
      "File \u001b[1;32mparsers.pyx:879\u001b[0m, in \u001b[0;36mpandas._libs.parsers.TextReader._tokenize_rows\u001b[1;34m()\u001b[0m\n",
      "File \u001b[1;32mparsers.pyx:890\u001b[0m, in \u001b[0;36mpandas._libs.parsers.TextReader._check_tokenize_status\u001b[1;34m()\u001b[0m\n",
      "File \u001b[1;32mparsers.pyx:2058\u001b[0m, in \u001b[0;36mpandas._libs.parsers.raise_parser_error\u001b[1;34m()\u001b[0m\n",
      "\u001b[1;31mParserError\u001b[0m: Error tokenizing data. C error: Calling read(nbytes) on source failed. Try engine='python'."
     ]
    }
   ],
   "source": [
    "successful_chall['WE_initial'] = successful_chall.apply(init_call_we, axis=1)\n",
    "print(successful_chall)"
   ]
  },
  {
   "cell_type": "code",
   "execution_count": null,
   "id": "20da6f09",
   "metadata": {},
   "outputs": [],
   "source": [
    "def post_chall_we(x):\n",
    "    balls = x.loc['balls']\n",
    "    strikes = x.loc['strikes']"
   ]
  },
  {
   "cell_type": "code",
   "execution_count": null,
   "id": "c26995d4",
   "metadata": {},
   "outputs": [],
   "source": [
    "def challenge_value(x):\n",
    "    "
   ]
  },
  {
   "cell_type": "code",
   "execution_count": null,
   "id": "8ea49812",
   "metadata": {},
   "outputs": [],
   "source": [
    "\n",
    "\n"
   ]
  }
 ],
 "metadata": {
  "kernelspec": {
   "display_name": "Python 3 (ipykernel)",
   "language": "python",
   "name": "python3"
  },
  "language_info": {
   "codemirror_mode": {
    "name": "ipython",
    "version": 3
   },
   "file_extension": ".py",
   "mimetype": "text/x-python",
   "name": "python",
   "nbconvert_exporter": "python",
   "pygments_lexer": "ipython3",
   "version": "3.11.5"
  }
 },
 "nbformat": 4,
 "nbformat_minor": 5
}
