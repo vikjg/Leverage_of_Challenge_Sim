{
 "cells": [
  {
   "cell_type": "code",
   "execution_count": 114,
   "id": "09fea13d",
   "metadata": {},
   "outputs": [],
   "source": [
    "import pandas as pd\n",
    "import numpy as np\n",
    "import math"
   ]
  },
  {
   "cell_type": "code",
   "execution_count": 62,
   "id": "b543ab51",
   "metadata": {},
   "outputs": [],
   "source": [
    "def situation_id(x):\n",
    "    sit_id = ''\n",
    "    for i in range(9):\n",
    "        sit_id += str(int(x.iloc[i]))\n",
    "    return sit_id"
   ]
  },
  {
   "cell_type": "code",
   "execution_count": 80,
   "id": "e2d11d86",
   "metadata": {},
   "outputs": [
    {
     "name": "stdout",
     "output_type": "stream",
     "text": [
      "        0  1  2  3  4  5   6  7  8      9       10\n",
      "0        1  0  0  0  0  0   0  0  0  84165  183331\n",
      "1        1  0  0  0  0  0   0  0  1  19599   42926\n",
      "2        1  0  0  0  0  0   0  0  2   7513   16776\n",
      "3        1  0  0  0  0  0   0  1  0  15425   33083\n",
      "4        1  0  0  0  0  0   0  1  1  16025   34780\n",
      "...     .. .. .. .. .. ..  .. .. ..    ...     ...\n",
      "139181  25  1  0  0  0  0   0  0  0      1       1\n",
      "139182  25  1  1  0  0  0  -1  0  0      0       1\n",
      "139183  25  1  1  0  0  0   0  0  0      1       1\n",
      "139184  25  1  2  0  0  0  -1  0  0      0       1\n",
      "139185  25  1  2  1  0  0  -1  0  0      0       1\n",
      "\n",
      "[139186 rows x 11 columns]\n"
     ]
    }
   ],
   "source": [
    "\n",
    "df = pd.read_csv(\"statswithballsstrikes.txt\", sep=' ', header=None) \n",
    "  \n",
    "# display DataFrame \n",
    "for column in df.columns:\n",
    "    df[column] = df[column].str.strip('(')\n",
    "    df[column] = df[column].str.strip(':')\n",
    "    df[column] = df[column].str.strip(',')\n",
    "    df[column] = df[column].str.strip(')')\n",
    "\n",
    "df['WE'] = df[9].astype(float) / df[10].astype(float)\n",
    "df = df.drop([9,10], axis=1)\n",
    "mapping = {df.columns[0]:'Inning', df.columns[1]:'Team', df.columns[2]:'Outs', df.columns[3]:'RO1', \n",
    "           df.columns[4]:'RO2', df.columns[5]:'RO3', df.columns[6]:'Run Diff', df.columns[7]:'Balls',\n",
    "           df.columns[8]: 'Strikes'}\n",
    "df = df.rename(columns=mapping)\n",
    "\n",
    "we_dict = {}\n",
    "df['sit_id'] = df.apply(situation_id, axis=1)\n",
    "for rows in df.index:\n",
    "    key = df.loc[rows].at['sit_id']\n",
    "    value = df.loc[rows].at['WE']\n",
    "    we_dict[key] = value"
   ]
  },
  {
   "cell_type": "code",
   "execution_count": 84,
   "id": "f5de1eb7",
   "metadata": {},
   "outputs": [
    {
     "name": "stdout",
     "output_type": "stream",
     "text": [
      "dictionary saved successfully to file\n"
     ]
    }
   ],
   "source": [
    "import pickle\n",
    "with open('win_exp.pkl', 'wb') as fp:\n",
    "    pickle.dump(we_dict, fp)\n",
    "    print('dictionary saved successfully to file')"
   ]
  },
  {
   "cell_type": "code",
   "execution_count": 85,
   "id": "48bcf0af",
   "metadata": {},
   "outputs": [],
   "source": [
    "def true_call(plate_x, plate_z, sz_top, sz_bot):\n",
    "    if ((plate_x > -0.83) & (plate_x < 0.83)) & ((plate_z > sz_bot) & (plate_z < sz_top)):\n",
    "        return 1\n",
    "    else:\n",
    "        return 0"
   ]
  },
  {
   "cell_type": "code",
   "execution_count": 17,
   "id": "87538afc",
   "metadata": {},
   "outputs": [
    {
     "name": "stdout",
     "output_type": "stream",
     "text": [
      "       index  Unnamed: 0     events    description  balls  strikes  plate_x  \\\n",
      "0       2495        2495  strikeout  called_strike      3        2     0.61   \n",
      "1       2649        2649  strikeout  called_strike      1        2     0.72   \n",
      "2       5269        5269  strikeout  called_strike      0        2     0.75   \n",
      "3       6820        6820  strikeout  called_strike      0        2    -0.65   \n",
      "4       7013        7013  strikeout  called_strike      0        2    -0.89   \n",
      "...      ...         ...        ...            ...    ...      ...      ...   \n",
      "1115  717180      717180  strikeout  called_strike      3        2     0.62   \n",
      "1116  717405      717405  strikeout  called_strike      2        2     0.96   \n",
      "1117  717665      717665  strikeout  called_strike      3        2    -0.78   \n",
      "1118  718155      718155  strikeout  called_strike      1        2    -0.77   \n",
      "1119  719706      719706  strikeout  called_strike      2        2     0.81   \n",
      "\n",
      "      plate_z  on_3b     on_2b  ...  home_score  away_score  bat_score  \\\n",
      "0        1.76    NaN       NaN  ...           0           5          5   \n",
      "1        1.77    NaN  666182.0  ...           6          12          6   \n",
      "2        1.90    NaN  571970.0  ...           0           0          0   \n",
      "3        3.14    NaN       NaN  ...           1           6          1   \n",
      "4        1.83    NaN       NaN  ...           0           4          4   \n",
      "...       ...    ...       ...  ...         ...         ...        ...   \n",
      "1115     1.84    NaN       NaN  ...          11           7          7   \n",
      "1116     3.16    NaN  592206.0  ...           0           0          0   \n",
      "1117     1.52    NaN       NaN  ...           1           1          1   \n",
      "1118     1.74    NaN       NaN  ...           1           0          1   \n",
      "1119     1.69    NaN       NaN  ...           5           2          2   \n",
      "\n",
      "     fld_score  post_away_score  post_home_score  post_bat_score  \\\n",
      "0            0                5                0               5   \n",
      "1           12               12                6               6   \n",
      "2            0                0                0               0   \n",
      "3            6                6                1               1   \n",
      "4            0                4                0               4   \n",
      "...        ...              ...              ...             ...   \n",
      "1115        11                7               11               7   \n",
      "1116         0                0                0               0   \n",
      "1117         1                1                1               1   \n",
      "1118         0                0                1               1   \n",
      "1119         5                2                5               2   \n",
      "\n",
      "      post_fld_score  delta_home_win_exp  delta_run_exp  \n",
      "0                  0               0.003         -0.130  \n",
      "1                 12              -0.013         -0.336  \n",
      "2                  0               0.032         -0.205  \n",
      "3                  6              -0.002         -0.065  \n",
      "4                  0               0.010         -0.152  \n",
      "...              ...                 ...            ...  \n",
      "1115              11               0.009         -0.207  \n",
      "1116               0               0.036         -0.300  \n",
      "1117               1              -0.025         -0.317  \n",
      "1118               0              -0.021         -0.173  \n",
      "1119               5               0.009         -0.090  \n",
      "\n",
      "[1120 rows x 26 columns]\n"
     ]
    }
   ],
   "source": [
    "data2023 = pd.read_csv('2023_mlb_statcast.csv')\n",
    "data2023 = data2023.drop(['pitch_type', 'game_date', 'release_speed', 'release_pos_x',\n",
    "       'release_pos_z', 'player_name', 'batter', 'pitcher',\n",
    "       'spin_dir', 'spin_rate_deprecated',\n",
    "       'break_angle_deprecated', 'break_length_deprecated', 'zone', 'des',\n",
    "       'game_type', 'stand', 'p_throws', 'home_team', 'away_team', 'type',\n",
    "       'hit_location', 'bb_type', 'game_year', 'pfx_x',\n",
    "       'pfx_z', 'hc_x', 'hc_y',\n",
    "       'tfs_deprecated', 'tfs_zulu_deprecated', 'fielder_2', 'umpire', 'sv_id',\n",
    "       'vx0', 'vy0', 'vz0', 'ax', 'ay', 'az', \n",
    "       'hit_distance_sc', 'launch_speed', 'launch_angle', 'effective_speed',\n",
    "       'release_spin_rate', 'release_extension', 'game_pk', 'pitcher.1',\n",
    "       'fielder_2.1', 'fielder_3', 'fielder_4', 'fielder_5', 'fielder_6',\n",
    "       'fielder_7', 'fielder_8', 'fielder_9', 'release_pos_y',\n",
    "       'estimated_ba_using_speedangle', 'estimated_woba_using_speedangle',\n",
    "       'woba_value', 'woba_denom', 'babip_value', 'iso_value',\n",
    "       'launch_speed_angle', 'at_bat_number', 'pitch_number', 'pitch_name',\n",
    "       'if_fielding_alignment', 'of_fielding_alignment', 'spin_axis'], axis=1)\n",
    "data2023 = data2023[data2023['events'].isin(['strikeout'])]\n",
    "data2023 = data2023[data2023['description'].isin(['called_strike'])]\n",
    "data2023 = data2023.loc[(data2023['plate_x'] > 0.585) | (data2023['plate_x'] < -0.585)]\n",
    "data2023 = data2023.loc[(data2023['plate_z'] > (data2023['sz_top'] - 0.245)) | \n",
    "                         (data2023['plate_z'] < (data2023['sz_bot'] + 0.245))]\n",
    "data2023 = data2023.reset_index()"
   ]
  },
  {
   "cell_type": "code",
   "execution_count": 18,
   "id": "364dd850",
   "metadata": {},
   "outputs": [],
   "source": [
    "data2023['Challenge'] = data2023.apply(lambda x: true_call(x.plate_x, x.plate_z, x.sz_top, x.sz_bot), axis=1)"
   ]
  },
  {
   "cell_type": "code",
   "execution_count": 37,
   "id": "957d3ea4",
   "metadata": {},
   "outputs": [],
   "source": [
    "successful_chall = data2023[data2023['Challenge'].isin([0])]\n",
    "successful_chall = successful_chall.reset_index()\n",
    "for c in ['on_1b', 'on_2b', 'on_3b']:\n",
    "        successful_chall[c] = successful_chall[c].fillna(0)\n",
    "successful_chall.loc[successful_chall['on_1b'] > 0, 'on_1b'] = 1\n",
    "successful_chall.loc[successful_chall['on_2b'] > 0, 'on_2b'] = 1\n",
    "successful_chall.loc[successful_chall['on_3b'] > 0, 'on_3b'] = 1\n",
    "successful_chall.loc[successful_chall['inning_topbot'] == 'Top', 'inning_topbot'] = 0\n",
    "successful_chall.loc[successful_chall['inning_topbot'] == 'Bot', 'inning_topbot'] = 1\n",
    "successful_chall['run_diff_top'] = successful_chall['post_away_score'] - successful_chall['post_home_score']\n",
    "successful_chall['run_diff_bot'] = successful_chall['post_home_score'] - successful_chall['post_away_score']\n",
    "successful_chall['run_diff'] = np.nan\n",
    "successful_chall.loc[successful_chall['inning_topbot'] == 0, 'run_diff'] = successful_chall['run_diff_top']\n",
    "successful_chall.loc[successful_chall['inning_topbot'] == 1, 'run_diff'] = successful_chall['run_diff_bot']\n",
    "#513 successful challenges"
   ]
  },
  {
   "cell_type": "code",
   "execution_count": 87,
   "id": "c579662b",
   "metadata": {},
   "outputs": [
    {
     "name": "stdout",
     "output_type": "stream",
     "text": [
      "inning                            8\n",
      "inning_topbot                     1\n",
      "outs_when_up                      1\n",
      "on_1b                           1.0\n",
      "on_2b                           1.0\n",
      "on_3b                           1.0\n",
      "run_diff                       -9.0\n",
      "balls                             1\n",
      "strikes                           2\n",
      "level_0                           5\n",
      "index                          8657\n",
      "Unnamed: 0                     8657\n",
      "events                    strikeout\n",
      "description           called_strike\n",
      "plate_x                        0.96\n",
      "plate_z                        1.94\n",
      "sz_top                         3.48\n",
      "sz_bot                         1.73\n",
      "home_score                        5\n",
      "away_score                       14\n",
      "bat_score                         5\n",
      "fld_score                        14\n",
      "post_away_score                  14\n",
      "post_home_score                   5\n",
      "post_bat_score                    5\n",
      "post_fld_score                   14\n",
      "delta_home_win_exp           -0.002\n",
      "delta_run_exp                -0.549\n",
      "Challenge                         0\n",
      "Name: 1, dtype: object\n",
      "811111-912\n"
     ]
    }
   ],
   "source": [
    "\n",
    "new_order = ['inning', 'inning_topbot', 'outs_when_up', 'on_1b','on_2b', 'on_3b',  'run_diff', 'balls', \n",
    "             'strikes', \n",
    "             'level_0', 'index', 'Unnamed: 0', 'events', 'description', 'plate_x', 'plate_z', 'sz_top', 'sz_bot',\n",
    "       'home_score', 'away_score', 'bat_score', 'fld_score', 'post_away_score',\n",
    "       'post_home_score', 'post_bat_score', 'post_fld_score',\n",
    "       'delta_home_win_exp', 'delta_run_exp', 'Challenge', 'run_diff_top',\n",
    "       'run_diff_bot']\n",
    "\n",
    "successful_chall = successful_chall.reindex(columns=new_order)\n",
    "successful_chall = successful_chall.drop(['run_diff_top','run_diff_bot'], axis=1)"
   ]
  },
  {
   "cell_type": "code",
   "execution_count": 103,
   "id": "b4fee886",
   "metadata": {},
   "outputs": [],
   "source": [
    "def init_call_we(x):\n",
    "    # inning, team, outs, ro1, ro2, ro3, run_diff, balls, strikes\n",
    "    inning = x.iloc[0]\n",
    "    team = x.iloc[1]\n",
    "    outs = x.iloc[2] + 1\n",
    "    ro1 = x.iloc[3]\n",
    "    ro2 = x.iloc[4]\n",
    "    ro3 = x.iloc[5]\n",
    "    run_diff = x.iloc[6]\n",
    "    if outs == 3:\n",
    "        outs = 0\n",
    "        if team == 0:\n",
    "            team = 1\n",
    "            if (inning > 8) & (run_diff < 0):\n",
    "                return 0\n",
    "        else:\n",
    "            team = 0\n",
    "            inning += 1\n",
    "        run_diff = run_diff * -1\n",
    "        ro1 = 0\n",
    "        ro2 = 0\n",
    "        ro3 = 0\n",
    "    \n",
    "    balls = 0\n",
    "    strikes = 0\n",
    "    situation = pd.DataFrame([inning, team, outs, ro1, ro2, ro3, run_diff, balls, strikes])\n",
    "    sit_id = situation_id(situation)\n",
    "    with open('win_exp.pkl', 'rb') as fp:\n",
    "        we_dict = pickle.load(fp)\n",
    "    return we_dict[sit_id]"
   ]
  },
  {
   "cell_type": "code",
   "execution_count": 115,
   "id": "20da6f09",
   "metadata": {},
   "outputs": [],
   "source": [
    "def post_chall_we(x):\n",
    "    inning = x.iloc[0]\n",
    "    team = x.iloc[1]\n",
    "    outs = x.iloc[2] \n",
    "    ro1 = x.iloc[3]\n",
    "    ro2 = x.iloc[4]\n",
    "    ro3 = x.iloc[5]\n",
    "    run_diff = x.iloc[6]\n",
    "    balls = x.iloc[7] + 1\n",
    "    strikes = x.iloc[8]\n",
    "    if balls == 4:\n",
    "        balls = 0\n",
    "        strikes = 0\n",
    "        if (ro3 == 1) & (ro2 == 1) & (ro1 == 1):\n",
    "            run_diff += 1\n",
    "        elif (ro2 == 1) & (ro1 == 1):\n",
    "            ro3 = 1\n",
    "        elif ro1 == 1:\n",
    "            ro2 = 1\n",
    "        else:\n",
    "            ro1 = 1\n",
    "    situation = pd.DataFrame([inning, team, outs, ro1, ro2, ro3, run_diff, balls, strikes])\n",
    "    sit_id = situation_id(situation)\n",
    "    with open('win_exp.pkl', 'rb') as fp:\n",
    "        we_dict = pickle.load(fp)\n",
    "    if sit_id in list(we_dict.keys()):\n",
    "        return we_dict[sit_id]\n",
    "    else:\n",
    "        return math.nan"
   ]
  },
  {
   "cell_type": "code",
   "execution_count": 116,
   "id": "2cba9578",
   "metadata": {},
   "outputs": [
    {
     "name": "stdout",
     "output_type": "stream",
     "text": [
      "     inning inning_topbot  outs_when_up  on_1b  on_2b  on_3b  run_diff  balls  \\\n",
      "0         2             0             0    0.0    0.0    0.0       4.0      0   \n",
      "1         8             1             1    1.0    1.0    1.0      -9.0      1   \n",
      "2         7             1             0    1.0    1.0    0.0       3.0      1   \n",
      "3         3             0             1    0.0    0.0    0.0       1.0      1   \n",
      "4         7             1             0    0.0    0.0    0.0       8.0      3   \n",
      "..      ...           ...           ...    ...    ...    ...       ...    ...   \n",
      "508       5             1             1    0.0    0.0    0.0       1.0      3   \n",
      "509       4             0             0    0.0    0.0    0.0       4.0      2   \n",
      "510       9             0             1    0.0    0.0    0.0       2.0      0   \n",
      "511       2             0             1    0.0    1.0    0.0       0.0      2   \n",
      "512       3             1             0    0.0    0.0    0.0       0.0      3   \n",
      "\n",
      "     strikes  level_0  ...  post_away_score  post_home_score post_bat_score  \\\n",
      "0          2        4  ...                4                0              4   \n",
      "1          2        5  ...               14                5              5   \n",
      "2          2       10  ...                0                3              3   \n",
      "3          2       12  ...                2                1              2   \n",
      "4          2       13  ...                0                8              8   \n",
      "..       ...      ...  ...              ...              ...            ...   \n",
      "508        2     1108  ...                2                3              3   \n",
      "509        2     1109  ...                4                0              4   \n",
      "510        2     1110  ...                2                0              2   \n",
      "511        2     1116  ...                0                0              0   \n",
      "512        2     1117  ...                1                1              1   \n",
      "\n",
      "    post_fld_score  delta_home_win_exp  delta_run_exp  Challenge  WE_initial  \\\n",
      "0                0               0.010         -0.152          0    0.852751   \n",
      "1               14              -0.002         -0.549          0    0.000000   \n",
      "2                0              -0.010         -0.342          0    0.969267   \n",
      "3                1               0.016         -0.119          0    0.557814   \n",
      "4                0               0.000         -0.317          0    0.999313   \n",
      "..             ...                 ...            ...        ...         ...   \n",
      "508              2              -0.015         -0.207          0    0.709593   \n",
      "509              0               0.008         -0.214          0    0.869472   \n",
      "510              0               0.006         -0.107          0    0.920151   \n",
      "511              0               0.036         -0.300          0    0.449255   \n",
      "512              1              -0.025         -0.317          0    0.556155   \n",
      "\n",
      "     WE_overturn  Chall_value  \n",
      "0       0.871886     0.019135  \n",
      "1       0.000000     0.000000  \n",
      "2       0.986667     0.017400  \n",
      "3       0.581900     0.024086  \n",
      "4       0.998073    -0.001240  \n",
      "..           ...          ...  \n",
      "508     0.752362     0.042769  \n",
      "509     0.854227    -0.015245  \n",
      "510     0.939142     0.018990  \n",
      "511     0.497317     0.048062  \n",
      "512     0.631591     0.075437  \n",
      "\n",
      "[513 rows x 32 columns]\n"
     ]
    }
   ],
   "source": [
    "successful_chall['WE_initial'] = successful_chall.apply(init_call_we, axis=1)\n",
    "successful_chall['WE_overturn'] = successful_chall.apply(post_chall_we, axis=1)\n",
    "successful_chall['Chall_value'] = successful_chall['WE_overturn'] - successful_chall['WE_initial']\n",
    "print(successful_chall)"
   ]
  },
  {
   "cell_type": "code",
   "execution_count": 117,
   "id": "c26995d4",
   "metadata": {},
   "outputs": [
    {
     "name": "stdout",
     "output_type": "stream",
     "text": [
      "0.04699525543669322\n"
     ]
    }
   ],
   "source": [
    "print(successful_chall['Chall_value'].mean())"
   ]
  },
  {
   "cell_type": "code",
   "execution_count": 118,
   "id": "9bdfc226",
   "metadata": {},
   "outputs": [],
   "source": [
    "successful_chall.to_csv('simulated_successful_challenges.csv')"
   ]
  },
  {
   "cell_type": "code",
   "execution_count": null,
   "id": "f0da7586",
   "metadata": {},
   "outputs": [],
   "source": []
  }
 ],
 "metadata": {
  "kernelspec": {
   "display_name": "Python 3 (ipykernel)",
   "language": "python",
   "name": "python3"
  },
  "language_info": {
   "codemirror_mode": {
    "name": "ipython",
    "version": 3
   },
   "file_extension": ".py",
   "mimetype": "text/x-python",
   "name": "python",
   "nbconvert_exporter": "python",
   "pygments_lexer": "ipython3",
   "version": "3.11.4"
  }
 },
 "nbformat": 4,
 "nbformat_minor": 5
}
